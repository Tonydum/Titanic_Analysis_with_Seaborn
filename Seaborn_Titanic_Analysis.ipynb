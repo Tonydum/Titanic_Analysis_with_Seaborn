{
  "nbformat": 4,
  "nbformat_minor": 0,
  "metadata": {
    "colab": {
      "provenance": []
    },
    "kernelspec": {
      "name": "python3",
      "display_name": "Python 3"
    },
    "language_info": {
      "name": "python"
    }
  },
  "cells": [
    {
      "cell_type": "markdown",
      "source": [
        "1. Data Loading and Exploration"
      ],
      "metadata": {
        "id": "GpXe16lpeHcI"
      }
    },
    {
      "cell_type": "markdown",
      "source": [
        "Import necessary libraries (e.g., pandas, numpy, seaborn, matplotlib)."
      ],
      "metadata": {
        "id": "efXSfd6KIZl_"
      }
    },
    {
      "cell_type": "markdown",
      "source": [],
      "metadata": {
        "id": "g4buKje3ISj9"
      }
    },
    {
      "cell_type": "code",
      "source": [
        "import pandas as pd\n",
        "import seaborn as sns\n",
        "import matplotlib.pyplot as plt\n",
        "import numpy as np\n"
      ],
      "metadata": {
        "id": "oQlHGCqrdkYj"
      },
      "execution_count": 4,
      "outputs": []
    },
    {
      "cell_type": "markdown",
      "source": [
        "Load the \"titanic\" dataset from Seaborn's built-in datasets"
      ],
      "metadata": {
        "id": "fmBfWEU1d9Rj"
      }
    },
    {
      "cell_type": "code",
      "source": [
        "from seaborn.utils import get_dataset_names\n",
        "df = sns.load_dataset('titanic')\n"
      ],
      "metadata": {
        "id": "nS5EY0ZNd7X4"
      },
      "execution_count": 5,
      "outputs": []
    },
    {
      "cell_type": "markdown",
      "source": [
        "Display the first 5 rows of the dataset."
      ],
      "metadata": {
        "id": "s5KoI-KpeWIx"
      }
    },
    {
      "cell_type": "code",
      "source": [
        "df.head()"
      ],
      "metadata": {
        "colab": {
          "base_uri": "https://localhost:8080/",
          "height": 206
        },
        "id": "QtZqISEzetY6",
        "outputId": "032a4380-748f-44f2-9220-c89b7291a066"
      },
      "execution_count": 6,
      "outputs": [
        {
          "output_type": "execute_result",
          "data": {
            "text/plain": [
              "   survived  pclass     sex   age  sibsp  parch     fare embarked  class  \\\n",
              "0         0       3    male  22.0      1      0   7.2500        S  Third   \n",
              "1         1       1  female  38.0      1      0  71.2833        C  First   \n",
              "2         1       3  female  26.0      0      0   7.9250        S  Third   \n",
              "3         1       1  female  35.0      1      0  53.1000        S  First   \n",
              "4         0       3    male  35.0      0      0   8.0500        S  Third   \n",
              "\n",
              "     who  adult_male deck  embark_town alive  alone  \n",
              "0    man        True  NaN  Southampton    no  False  \n",
              "1  woman       False    C    Cherbourg   yes  False  \n",
              "2  woman       False  NaN  Southampton   yes   True  \n",
              "3  woman       False    C  Southampton   yes  False  \n",
              "4    man        True  NaN  Southampton    no   True  "
            ],
            "text/html": [
              "\n",
              "  <div id=\"df-8288294f-7244-4a14-9ff3-3a6733630456\" class=\"colab-df-container\">\n",
              "    <div>\n",
              "<style scoped>\n",
              "    .dataframe tbody tr th:only-of-type {\n",
              "        vertical-align: middle;\n",
              "    }\n",
              "\n",
              "    .dataframe tbody tr th {\n",
              "        vertical-align: top;\n",
              "    }\n",
              "\n",
              "    .dataframe thead th {\n",
              "        text-align: right;\n",
              "    }\n",
              "</style>\n",
              "<table border=\"1\" class=\"dataframe\">\n",
              "  <thead>\n",
              "    <tr style=\"text-align: right;\">\n",
              "      <th></th>\n",
              "      <th>survived</th>\n",
              "      <th>pclass</th>\n",
              "      <th>sex</th>\n",
              "      <th>age</th>\n",
              "      <th>sibsp</th>\n",
              "      <th>parch</th>\n",
              "      <th>fare</th>\n",
              "      <th>embarked</th>\n",
              "      <th>class</th>\n",
              "      <th>who</th>\n",
              "      <th>adult_male</th>\n",
              "      <th>deck</th>\n",
              "      <th>embark_town</th>\n",
              "      <th>alive</th>\n",
              "      <th>alone</th>\n",
              "    </tr>\n",
              "  </thead>\n",
              "  <tbody>\n",
              "    <tr>\n",
              "      <th>0</th>\n",
              "      <td>0</td>\n",
              "      <td>3</td>\n",
              "      <td>male</td>\n",
              "      <td>22.0</td>\n",
              "      <td>1</td>\n",
              "      <td>0</td>\n",
              "      <td>7.2500</td>\n",
              "      <td>S</td>\n",
              "      <td>Third</td>\n",
              "      <td>man</td>\n",
              "      <td>True</td>\n",
              "      <td>NaN</td>\n",
              "      <td>Southampton</td>\n",
              "      <td>no</td>\n",
              "      <td>False</td>\n",
              "    </tr>\n",
              "    <tr>\n",
              "      <th>1</th>\n",
              "      <td>1</td>\n",
              "      <td>1</td>\n",
              "      <td>female</td>\n",
              "      <td>38.0</td>\n",
              "      <td>1</td>\n",
              "      <td>0</td>\n",
              "      <td>71.2833</td>\n",
              "      <td>C</td>\n",
              "      <td>First</td>\n",
              "      <td>woman</td>\n",
              "      <td>False</td>\n",
              "      <td>C</td>\n",
              "      <td>Cherbourg</td>\n",
              "      <td>yes</td>\n",
              "      <td>False</td>\n",
              "    </tr>\n",
              "    <tr>\n",
              "      <th>2</th>\n",
              "      <td>1</td>\n",
              "      <td>3</td>\n",
              "      <td>female</td>\n",
              "      <td>26.0</td>\n",
              "      <td>0</td>\n",
              "      <td>0</td>\n",
              "      <td>7.9250</td>\n",
              "      <td>S</td>\n",
              "      <td>Third</td>\n",
              "      <td>woman</td>\n",
              "      <td>False</td>\n",
              "      <td>NaN</td>\n",
              "      <td>Southampton</td>\n",
              "      <td>yes</td>\n",
              "      <td>True</td>\n",
              "    </tr>\n",
              "    <tr>\n",
              "      <th>3</th>\n",
              "      <td>1</td>\n",
              "      <td>1</td>\n",
              "      <td>female</td>\n",
              "      <td>35.0</td>\n",
              "      <td>1</td>\n",
              "      <td>0</td>\n",
              "      <td>53.1000</td>\n",
              "      <td>S</td>\n",
              "      <td>First</td>\n",
              "      <td>woman</td>\n",
              "      <td>False</td>\n",
              "      <td>C</td>\n",
              "      <td>Southampton</td>\n",
              "      <td>yes</td>\n",
              "      <td>False</td>\n",
              "    </tr>\n",
              "    <tr>\n",
              "      <th>4</th>\n",
              "      <td>0</td>\n",
              "      <td>3</td>\n",
              "      <td>male</td>\n",
              "      <td>35.0</td>\n",
              "      <td>0</td>\n",
              "      <td>0</td>\n",
              "      <td>8.0500</td>\n",
              "      <td>S</td>\n",
              "      <td>Third</td>\n",
              "      <td>man</td>\n",
              "      <td>True</td>\n",
              "      <td>NaN</td>\n",
              "      <td>Southampton</td>\n",
              "      <td>no</td>\n",
              "      <td>True</td>\n",
              "    </tr>\n",
              "  </tbody>\n",
              "</table>\n",
              "</div>\n",
              "    <div class=\"colab-df-buttons\">\n",
              "\n",
              "  <div class=\"colab-df-container\">\n",
              "    <button class=\"colab-df-convert\" onclick=\"convertToInteractive('df-8288294f-7244-4a14-9ff3-3a6733630456')\"\n",
              "            title=\"Convert this dataframe to an interactive table.\"\n",
              "            style=\"display:none;\">\n",
              "\n",
              "  <svg xmlns=\"http://www.w3.org/2000/svg\" height=\"24px\" viewBox=\"0 -960 960 960\">\n",
              "    <path d=\"M120-120v-720h720v720H120Zm60-500h600v-160H180v160Zm220 220h160v-160H400v160Zm0 220h160v-160H400v160ZM180-400h160v-160H180v160Zm440 0h160v-160H620v160ZM180-180h160v-160H180v160Zm440 0h160v-160H620v160Z\"/>\n",
              "  </svg>\n",
              "    </button>\n",
              "\n",
              "  <style>\n",
              "    .colab-df-container {\n",
              "      display:flex;\n",
              "      gap: 12px;\n",
              "    }\n",
              "\n",
              "    .colab-df-convert {\n",
              "      background-color: #E8F0FE;\n",
              "      border: none;\n",
              "      border-radius: 50%;\n",
              "      cursor: pointer;\n",
              "      display: none;\n",
              "      fill: #1967D2;\n",
              "      height: 32px;\n",
              "      padding: 0 0 0 0;\n",
              "      width: 32px;\n",
              "    }\n",
              "\n",
              "    .colab-df-convert:hover {\n",
              "      background-color: #E2EBFA;\n",
              "      box-shadow: 0px 1px 2px rgba(60, 64, 67, 0.3), 0px 1px 3px 1px rgba(60, 64, 67, 0.15);\n",
              "      fill: #174EA6;\n",
              "    }\n",
              "\n",
              "    .colab-df-buttons div {\n",
              "      margin-bottom: 4px;\n",
              "    }\n",
              "\n",
              "    [theme=dark] .colab-df-convert {\n",
              "      background-color: #3B4455;\n",
              "      fill: #D2E3FC;\n",
              "    }\n",
              "\n",
              "    [theme=dark] .colab-df-convert:hover {\n",
              "      background-color: #434B5C;\n",
              "      box-shadow: 0px 1px 3px 1px rgba(0, 0, 0, 0.15);\n",
              "      filter: drop-shadow(0px 1px 2px rgba(0, 0, 0, 0.3));\n",
              "      fill: #FFFFFF;\n",
              "    }\n",
              "  </style>\n",
              "\n",
              "    <script>\n",
              "      const buttonEl =\n",
              "        document.querySelector('#df-8288294f-7244-4a14-9ff3-3a6733630456 button.colab-df-convert');\n",
              "      buttonEl.style.display =\n",
              "        google.colab.kernel.accessAllowed ? 'block' : 'none';\n",
              "\n",
              "      async function convertToInteractive(key) {\n",
              "        const element = document.querySelector('#df-8288294f-7244-4a14-9ff3-3a6733630456');\n",
              "        const dataTable =\n",
              "          await google.colab.kernel.invokeFunction('convertToInteractive',\n",
              "                                                    [key], {});\n",
              "        if (!dataTable) return;\n",
              "\n",
              "        const docLinkHtml = 'Like what you see? Visit the ' +\n",
              "          '<a target=\"_blank\" href=https://colab.research.google.com/notebooks/data_table.ipynb>data table notebook</a>'\n",
              "          + ' to learn more about interactive tables.';\n",
              "        element.innerHTML = '';\n",
              "        dataTable['output_type'] = 'display_data';\n",
              "        await google.colab.output.renderOutput(dataTable, element);\n",
              "        const docLink = document.createElement('div');\n",
              "        docLink.innerHTML = docLinkHtml;\n",
              "        element.appendChild(docLink);\n",
              "      }\n",
              "    </script>\n",
              "  </div>\n",
              "\n",
              "\n",
              "<div id=\"df-fc35cc99-0236-4439-a630-92f499da06f9\">\n",
              "  <button class=\"colab-df-quickchart\" onclick=\"quickchart('df-fc35cc99-0236-4439-a630-92f499da06f9')\"\n",
              "            title=\"Suggest charts.\"\n",
              "            style=\"display:none;\">\n",
              "\n",
              "<svg xmlns=\"http://www.w3.org/2000/svg\" height=\"24px\"viewBox=\"0 0 24 24\"\n",
              "     width=\"24px\">\n",
              "    <g>\n",
              "        <path d=\"M19 3H5c-1.1 0-2 .9-2 2v14c0 1.1.9 2 2 2h14c1.1 0 2-.9 2-2V5c0-1.1-.9-2-2-2zM9 17H7v-7h2v7zm4 0h-2V7h2v10zm4 0h-2v-4h2v4z\"/>\n",
              "    </g>\n",
              "</svg>\n",
              "  </button>\n",
              "\n",
              "<style>\n",
              "  .colab-df-quickchart {\n",
              "      --bg-color: #E8F0FE;\n",
              "      --fill-color: #1967D2;\n",
              "      --hover-bg-color: #E2EBFA;\n",
              "      --hover-fill-color: #174EA6;\n",
              "      --disabled-fill-color: #AAA;\n",
              "      --disabled-bg-color: #DDD;\n",
              "  }\n",
              "\n",
              "  [theme=dark] .colab-df-quickchart {\n",
              "      --bg-color: #3B4455;\n",
              "      --fill-color: #D2E3FC;\n",
              "      --hover-bg-color: #434B5C;\n",
              "      --hover-fill-color: #FFFFFF;\n",
              "      --disabled-bg-color: #3B4455;\n",
              "      --disabled-fill-color: #666;\n",
              "  }\n",
              "\n",
              "  .colab-df-quickchart {\n",
              "    background-color: var(--bg-color);\n",
              "    border: none;\n",
              "    border-radius: 50%;\n",
              "    cursor: pointer;\n",
              "    display: none;\n",
              "    fill: var(--fill-color);\n",
              "    height: 32px;\n",
              "    padding: 0;\n",
              "    width: 32px;\n",
              "  }\n",
              "\n",
              "  .colab-df-quickchart:hover {\n",
              "    background-color: var(--hover-bg-color);\n",
              "    box-shadow: 0 1px 2px rgba(60, 64, 67, 0.3), 0 1px 3px 1px rgba(60, 64, 67, 0.15);\n",
              "    fill: var(--button-hover-fill-color);\n",
              "  }\n",
              "\n",
              "  .colab-df-quickchart-complete:disabled,\n",
              "  .colab-df-quickchart-complete:disabled:hover {\n",
              "    background-color: var(--disabled-bg-color);\n",
              "    fill: var(--disabled-fill-color);\n",
              "    box-shadow: none;\n",
              "  }\n",
              "\n",
              "  .colab-df-spinner {\n",
              "    border: 2px solid var(--fill-color);\n",
              "    border-color: transparent;\n",
              "    border-bottom-color: var(--fill-color);\n",
              "    animation:\n",
              "      spin 1s steps(1) infinite;\n",
              "  }\n",
              "\n",
              "  @keyframes spin {\n",
              "    0% {\n",
              "      border-color: transparent;\n",
              "      border-bottom-color: var(--fill-color);\n",
              "      border-left-color: var(--fill-color);\n",
              "    }\n",
              "    20% {\n",
              "      border-color: transparent;\n",
              "      border-left-color: var(--fill-color);\n",
              "      border-top-color: var(--fill-color);\n",
              "    }\n",
              "    30% {\n",
              "      border-color: transparent;\n",
              "      border-left-color: var(--fill-color);\n",
              "      border-top-color: var(--fill-color);\n",
              "      border-right-color: var(--fill-color);\n",
              "    }\n",
              "    40% {\n",
              "      border-color: transparent;\n",
              "      border-right-color: var(--fill-color);\n",
              "      border-top-color: var(--fill-color);\n",
              "    }\n",
              "    60% {\n",
              "      border-color: transparent;\n",
              "      border-right-color: var(--fill-color);\n",
              "    }\n",
              "    80% {\n",
              "      border-color: transparent;\n",
              "      border-right-color: var(--fill-color);\n",
              "      border-bottom-color: var(--fill-color);\n",
              "    }\n",
              "    90% {\n",
              "      border-color: transparent;\n",
              "      border-bottom-color: var(--fill-color);\n",
              "    }\n",
              "  }\n",
              "</style>\n",
              "\n",
              "  <script>\n",
              "    async function quickchart(key) {\n",
              "      const quickchartButtonEl =\n",
              "        document.querySelector('#' + key + ' button');\n",
              "      quickchartButtonEl.disabled = true;  // To prevent multiple clicks.\n",
              "      quickchartButtonEl.classList.add('colab-df-spinner');\n",
              "      try {\n",
              "        const charts = await google.colab.kernel.invokeFunction(\n",
              "            'suggestCharts', [key], {});\n",
              "      } catch (error) {\n",
              "        console.error('Error during call to suggestCharts:', error);\n",
              "      }\n",
              "      quickchartButtonEl.classList.remove('colab-df-spinner');\n",
              "      quickchartButtonEl.classList.add('colab-df-quickchart-complete');\n",
              "    }\n",
              "    (() => {\n",
              "      let quickchartButtonEl =\n",
              "        document.querySelector('#df-fc35cc99-0236-4439-a630-92f499da06f9 button');\n",
              "      quickchartButtonEl.style.display =\n",
              "        google.colab.kernel.accessAllowed ? 'block' : 'none';\n",
              "    })();\n",
              "  </script>\n",
              "</div>\n",
              "    </div>\n",
              "  </div>\n"
            ]
          },
          "metadata": {},
          "execution_count": 6
        }
      ]
    },
    {
      "cell_type": "markdown",
      "source": [
        "Here is a brief description of some of the columns:\n",
        "\n",
        "survived: Survival (0 = No, 1 = Yes)\n",
        "pclass: Passenger Class (1 = 1st, 2 = 2nd, 3 = 3rd)\n",
        "sex: Sex\n",
        "age: Age in years\n",
        "sibsp: Number of siblings/spouses aboard\n",
        "parch: Number of parents/children aboard\n",
        "fare: Passenger fare\n",
        "embarked: Port of embarkation (C = Cherbourg; Q = Queenstown; S = Southampton)\n",
        "class: Passenger class (First, Second, Third)\n",
        "who: Man, woman, or child\n",
        "adult_male: Boolean indicating if the passenger is an adult male\n",
        "deck: Deck\n",
        "embark_town: Town of embarkation\n",
        "alive: Survival status (yes or no)\n",
        "alone: Boolean indicating if the passenger is alone\n"
      ],
      "metadata": {
        "id": "J2_kmUq93ZGA"
      }
    },
    {
      "cell_type": "markdown",
      "source": [
        "Show a summary of the dataset including data types, non-null values, and memory usage."
      ],
      "metadata": {
        "id": "gZ0CGDLqeXaa"
      }
    },
    {
      "cell_type": "code",
      "source": [
        "df.info()"
      ],
      "metadata": {
        "colab": {
          "base_uri": "https://localhost:8080/"
        },
        "id": "Pah-OzVWeuoE",
        "outputId": "9e69320e-830b-4e43-cb62-bf760df49d05"
      },
      "execution_count": 6,
      "outputs": [
        {
          "output_type": "stream",
          "name": "stdout",
          "text": [
            "<class 'pandas.core.frame.DataFrame'>\n",
            "RangeIndex: 891 entries, 0 to 890\n",
            "Data columns (total 15 columns):\n",
            " #   Column       Non-Null Count  Dtype   \n",
            "---  ------       --------------  -----   \n",
            " 0   survived     891 non-null    int64   \n",
            " 1   pclass       891 non-null    int64   \n",
            " 2   sex          891 non-null    object  \n",
            " 3   age          714 non-null    float64 \n",
            " 4   sibsp        891 non-null    int64   \n",
            " 5   parch        891 non-null    int64   \n",
            " 6   fare         891 non-null    float64 \n",
            " 7   embarked     889 non-null    object  \n",
            " 8   class        891 non-null    category\n",
            " 9   who          891 non-null    object  \n",
            " 10  adult_male   891 non-null    bool    \n",
            " 11  deck         203 non-null    category\n",
            " 12  embark_town  889 non-null    object  \n",
            " 13  alive        891 non-null    object  \n",
            " 14  alone        891 non-null    bool    \n",
            "dtypes: bool(2), category(2), float64(2), int64(4), object(5)\n",
            "memory usage: 80.7+ KB\n"
          ]
        }
      ]
    },
    {
      "cell_type": "code",
      "source": [
        "df.shape"
      ],
      "metadata": {
        "colab": {
          "base_uri": "https://localhost:8080/"
        },
        "id": "HQ4_wGcanp7N",
        "outputId": "70531b43-ded1-41d2-f5e7-838be24f4299"
      },
      "execution_count": 7,
      "outputs": [
        {
          "output_type": "execute_result",
          "data": {
            "text/plain": [
              "(891, 15)"
            ]
          },
          "metadata": {},
          "execution_count": 7
        }
      ]
    },
    {
      "cell_type": "markdown",
      "source": [
        "2. Data Cleaning"
      ],
      "metadata": {
        "id": "bxdz3jqKeqyh"
      }
    },
    {
      "cell_type": "markdown",
      "source": [
        "Check for any missing values in the dataset."
      ],
      "metadata": {
        "id": "LnrH4ybKe32F"
      }
    },
    {
      "cell_type": "code",
      "source": [
        "missing_count_age = df['age'].isna().sum()\n",
        "missing_count_age"
      ],
      "metadata": {
        "colab": {
          "base_uri": "https://localhost:8080/"
        },
        "id": "5vE83jN4e7UF",
        "outputId": "f590676b-fab0-4e09-cff2-f45da90ef1e1"
      },
      "execution_count": 8,
      "outputs": [
        {
          "output_type": "execute_result",
          "data": {
            "text/plain": [
              "177"
            ]
          },
          "metadata": {},
          "execution_count": 8
        }
      ]
    },
    {
      "cell_type": "code",
      "source": [
        "missing_count_deck = df['deck'].isna().sum()\n",
        "missing_count_deck"
      ],
      "metadata": {
        "colab": {
          "base_uri": "https://localhost:8080/"
        },
        "id": "j4nvwC30mgOI",
        "outputId": "ed1bdca2-5f5e-47af-c114-636cd60f8fe6"
      },
      "execution_count": 9,
      "outputs": [
        {
          "output_type": "execute_result",
          "data": {
            "text/plain": [
              "688"
            ]
          },
          "metadata": {},
          "execution_count": 9
        }
      ]
    },
    {
      "cell_type": "code",
      "source": [
        "missing_count_class = df['class'].isna().sum()\n",
        "missing_count_class"
      ],
      "metadata": {
        "colab": {
          "base_uri": "https://localhost:8080/"
        },
        "id": "euxpPJ61mx_O",
        "outputId": "77294097-8ab2-4eb1-f277-45d976db4865"
      },
      "execution_count": 10,
      "outputs": [
        {
          "output_type": "execute_result",
          "data": {
            "text/plain": [
              "0"
            ]
          },
          "metadata": {},
          "execution_count": 10
        }
      ]
    },
    {
      "cell_type": "code",
      "source": [
        "missing_values = df.isnull().sum()\n",
        "missing_values"
      ],
      "metadata": {
        "colab": {
          "base_uri": "https://localhost:8080/"
        },
        "id": "8_X0LH3wuRlD",
        "outputId": "871b72ad-47cf-4f8e-d541-d220877e2fe5"
      },
      "execution_count": 11,
      "outputs": [
        {
          "output_type": "execute_result",
          "data": {
            "text/plain": [
              "survived         0\n",
              "pclass           0\n",
              "sex              0\n",
              "age            177\n",
              "sibsp            0\n",
              "parch            0\n",
              "fare             0\n",
              "embarked         2\n",
              "class            0\n",
              "who              0\n",
              "adult_male       0\n",
              "deck           688\n",
              "embark_town      2\n",
              "alive            0\n",
              "alone            0\n",
              "dtype: int64"
            ]
          },
          "metadata": {},
          "execution_count": 11
        }
      ]
    },
    {
      "cell_type": "markdown",
      "source": [
        "The dataset has missing values in the following columns:\n",
        "\n",
        "age: 177 missing values\n",
        "embarked: 2 missing values\n",
        "deck: 688 missing values\n",
        "embark_town: 2 missing values\n"
      ],
      "metadata": {
        "id": "tyGntpT43lxX"
      }
    },
    {
      "cell_type": "markdown",
      "source": [
        "Fill missing values in the \"age\" column with the median age.\n",
        "\n",
        "To address the missing values in the \"age\" column, we will fill them with the median age of the passengers."
      ],
      "metadata": {
        "id": "Iz8h3TFFe_PP"
      }
    },
    {
      "cell_type": "code",
      "source": [
        "#Calculate the median age\n",
        "median_age = df['age'].median()\n",
        "\n",
        "#Fill missing values with the median age\n",
        "df['age'].fillna(median_age, inplace=True)\n",
        "\n",
        "#Verify that there are no more missing values in the 'age' column\n",
        "missing_values_in_age = df['age'].isnull().sum()\n",
        "missing_values_in_age"
      ],
      "metadata": {
        "colab": {
          "base_uri": "https://localhost:8080/"
        },
        "id": "ATMmsFvYfBbw",
        "outputId": "bb9f3214-2d98-46d4-a560-a56781f1e77f"
      },
      "execution_count": 7,
      "outputs": [
        {
          "output_type": "execute_result",
          "data": {
            "text/plain": [
              "0"
            ]
          },
          "metadata": {},
          "execution_count": 7
        }
      ]
    },
    {
      "cell_type": "markdown",
      "source": [
        "Drop rows where \"embarked\" is missing.\n",
        "\n"
      ],
      "metadata": {
        "id": "hPgc7QLHfB0i"
      }
    },
    {
      "cell_type": "code",
      "source": [
        "#Check for missing values\n",
        "missing_Value_embarked = df['embarked'].isna().sum()\n",
        "missing_Value_embarked"
      ],
      "metadata": {
        "colab": {
          "base_uri": "https://localhost:8080/"
        },
        "id": "rwCH4KqofEMc",
        "outputId": "4fefcb0e-fd22-487d-996f-12fc0ee2b5cd"
      },
      "execution_count": 8,
      "outputs": [
        {
          "output_type": "execute_result",
          "data": {
            "text/plain": [
              "2"
            ]
          },
          "metadata": {},
          "execution_count": 8
        }
      ]
    },
    {
      "cell_type": "markdown",
      "source": [
        "Since there are only 2 missing values in the \"embarked\" column, we can safely drop these rows without significantly affecting the dataset."
      ],
      "metadata": {
        "id": "sbUD58Dc4VYB"
      }
    },
    {
      "cell_type": "code",
      "source": [
        "#Drop rows where \"embarked\" is missing\n",
        "df.dropna(subset=['embarked'], inplace=True)\n",
        "\n",
        "#Verify that there are no more missing values in the 'embarked' column\n",
        "missing_values_in_embarked = df['embarked'].isnull().sum()\n",
        "missing_values_in_embarked"
      ],
      "metadata": {
        "colab": {
          "base_uri": "https://localhost:8080/"
        },
        "id": "0RLI-wXkg2sB",
        "outputId": "7de360f7-ea09-4033-dcc1-bf73a06a19c9"
      },
      "execution_count": 9,
      "outputs": [
        {
          "output_type": "execute_result",
          "data": {
            "text/plain": [
              "0"
            ]
          },
          "metadata": {},
          "execution_count": 9
        }
      ]
    },
    {
      "cell_type": "markdown",
      "source": [
        "The missing values in the \"age\" and \"embarked\" columns have been successfully addressed:\n",
        "\n",
        "Missing values in the \"age\" column were filled with the median age.\n",
        "Rows with missing values in the \"embarked\" column were dropped.\n",
        "However, there are still 688 missing values in the \"deck\" column. This column has a significant number of missing values, and depending on the analysis, we might decide to drop the column, fill in the missing values, or use the data as it is.\n"
      ],
      "metadata": {
        "id": "nKAnLji848h5"
      }
    },
    {
      "cell_type": "markdown",
      "source": [
        "3. Data Visualization"
      ],
      "metadata": {
        "id": "EwttiaRqfEd5"
      }
    },
    {
      "cell_type": "markdown",
      "source": [
        "Create a count plot to visualize the distribution of the \"class\" column."
      ],
      "metadata": {
        "id": "K1F5WYd5fLuF"
      }
    },
    {
      "cell_type": "code",
      "source": [
        "sns.countplot(x='class', data=df)\n",
        "sns.countplot(x='class', data=df, palette='muted')\n",
        "plt.title('Passenger Class Distribution')\n",
        "plt.xlabel('Class')\n",
        "plt.ylabel('Count')\n",
        "\n",
        "plt.show()"
      ],
      "metadata": {
        "colab": {
          "base_uri": "https://localhost:8080/",
          "height": 472
        },
        "id": "cinnAP1Oo9Wt",
        "outputId": "b5f8fbf4-87ae-464a-c99b-5751eab60a24"
      },
      "execution_count": 10,
      "outputs": [
        {
          "output_type": "display_data",
          "data": {
            "text/plain": [
              "<Figure size 640x480 with 1 Axes>"
            ],
            "image/png": "[encoded data removed]"
          },
          "metadata": {}
        }
      ]
    },
    {
      "cell_type": "markdown",
      "source": [
        "The count plot above shows the distribution of passengers across different classes on the Titanic:\n",
        "\n",
        "A majority of passengers were in the Third class.\n",
        "First and Second classes had fewer passengers, with First class having slightly more than Second class.\n",
        "This distribution reflects the socio-economic class disparity of that time, with a larger number of passengers in the lower socio-economic class (Third class) compared to the upper classes.\n",
        "\n",
        "Next, we will proceed to visualize the age distribution in the dataset.\n"
      ],
      "metadata": {
        "id": "kkt4cEhv5Zko"
      }
    },
    {
      "cell_type": "markdown",
      "source": [
        "Visualize the age distribution in the dataset.\n",
        "\n",
        "We'll create a histogram to visualize the distribution of ages among the passengers.\n",
        "\n",
        "\n",
        "\n"
      ],
      "metadata": {
        "id": "XtAUgtldfRzI"
      }
    },
    {
      "cell_type": "code",
      "source": [
        "sns.histplot(df['age'], bins=30, kde=True)\n",
        "sns.histplot(df['age'], bins=30, kde=True, color='skyblue')\n",
        "plt.title('Age Distribution of Passengers')\n",
        "plt.xlabel('Age')\n",
        "plt.ylabel('Frequency')\n",
        "plt.show()\n",
        "\n"
      ],
      "metadata": {
        "colab": {
          "base_uri": "https://localhost:8080/",
          "height": 472
        },
        "id": "X92iDE0jfUUw",
        "outputId": "e22b9046-10ad-42e0-8dea-865928972ad2"
      },
      "execution_count": 11,
      "outputs": [
        {
          "output_type": "display_data",
          "data": {
            "text/plain": [
              "<Figure size 640x480 with 1 Axes>"
            ],
            "image/png": "[encoded data removed]"
          },
          "metadata": {}
        }
      ]
    },
    {
      "cell_type": "markdown",
      "source": [
        "The histogram above displays the age distribution of passengers on the Titanic:\n",
        "\n",
        "The majority of passengers were in the age range of 20 to 30 years.\n",
        "There is a noticeable presence of young children, with a peak around 0 to 5 years.\n",
        "The number of passengers decreases steadily with age, showing fewer older passengers on board.\n",
        "The kernel density estimate (KDE) line provides a smooth estimate of the distribution, further emphasizing the concentration of passengers in the younger age ranges.\n",
        "\n",
        "Next, we will create a box plot to compare the age distribution across different passenger classes.\n"
      ],
      "metadata": {
        "id": "cazYURut51NS"
      }
    },
    {
      "cell_type": "markdown",
      "source": [
        "Create a box plot to compare the age distribution across different classes.\n",
        "\n",
        "A box plot will help us understand how age distributions vary across different passenger classes."
      ],
      "metadata": {
        "id": "s5KA_oVYfUfQ"
      }
    },
    {
      "cell_type": "code",
      "source": [
        "sns.boxplot(x='class', y='age', data=df)\n",
        "# Customize the plot\n",
        "plt.title('Age Distribution Across Passenger Classes')\n",
        "plt.xlabel('Passenger Class')\n",
        "plt.ylabel('Age')\n",
        "plt.show()"
      ],
      "metadata": {
        "colab": {
          "base_uri": "https://localhost:8080/",
          "height": 472
        },
        "id": "Hs9zg8V5fXEJ",
        "outputId": "b8a22731-62ba-4dda-ae7e-25fef1291e20"
      },
      "execution_count": 12,
      "outputs": [
        {
          "output_type": "display_data",
          "data": {
            "text/plain": [
              "<Figure size 640x480 with 1 Axes>"
            ],
            "image/png": "[encoded data removed]"
          },
          "metadata": {}
        }
      ]
    },
    {
      "cell_type": "markdown",
      "source": [
        "The box plot above illustrates the age distribution across different passenger classes on the Titanic:\n",
        "\n",
        "First Class: Passengers tend to be older, with a median age around 37. The interquartile range (IQR) is wider, indicating more variation in age. There are also a number of older passengers, as shown by the upper whisker and outliers.\n",
        "\n",
        "Second Class: Passengers are slightly younger than in First Class, with a median age around 29. The age distribution is also more compact.\n",
        "\n",
        "Third Class: Has the youngest set of passengers, with a median age around 24. The age distribution is skewed towards younger ages.\n",
        "This visualization provides insights into the demographic differences across passenger classes, with wealthier (and typically older) passengers in higher classes and younger passengers in lower classes.\n",
        "\n",
        "Next, we will proceed to the statistical analysis section.\n"
      ],
      "metadata": {
        "id": "Y-kRHR3t6GVs"
      }
    },
    {
      "cell_type": "markdown",
      "source": [
        "4. Statistical Analysis"
      ],
      "metadata": {
        "id": "1fq2no2IfXOY"
      }
    },
    {
      "cell_type": "markdown",
      "source": [
        "\n",
        "4.1. Calculate the average age of passengers."
      ],
      "metadata": {
        "id": "AZuhcRAPfahK"
      }
    },
    {
      "cell_type": "code",
      "source": [
        "# Calculate the average age\n",
        "average_age = df['age'].mean()\n",
        "\n",
        "# Round the average age to 2 decimal places\n",
        "average_age_rounded = round(average_age, 1)\n",
        "\n",
        "print('Average age: ', average_age_rounded)\n"
      ],
      "metadata": {
        "colab": {
          "base_uri": "https://localhost:8080/"
        },
        "id": "MqzsCfCVff0C",
        "outputId": "951225eb-5d76-4167-988d-952fc9405394"
      },
      "execution_count": 13,
      "outputs": [
        {
          "output_type": "stream",
          "name": "stdout",
          "text": [
            "Average age:  29.3\n"
          ]
        }
      ]
    },
    {
      "cell_type": "markdown",
      "source": [
        "The average age of passengers on the Titanic was approximately 29.32 years.\n",
        "\n"
      ],
      "metadata": {
        "id": "cbrziWpl6d2V"
      }
    },
    {
      "cell_type": "markdown",
      "source": [
        "Find the survival rate of passengers.\n",
        "\n",
        "Next, we will calculate the overall survival rate of passengers. The \"survived\" column indicates survival with 1 for survived and 0 for did not survive, so the mean of this column will give us the survival rate.\n",
        "\n"
      ],
      "metadata": {
        "id": "kYp69CpZfgA_"
      }
    },
    {
      "cell_type": "code",
      "source": [
        "#Check the 'survived' Column\n",
        "df['survived'].head()"
      ],
      "metadata": {
        "colab": {
          "base_uri": "https://localhost:8080/"
        },
        "id": "-3sSx6OSfhoW",
        "outputId": "c07e6e56-c1eb-4366-a3ef-951a4e36b092"
      },
      "execution_count": 14,
      "outputs": [
        {
          "output_type": "execute_result",
          "data": {
            "text/plain": [
              "0    0\n",
              "1    1\n",
              "2    1\n",
              "3    1\n",
              "4    0\n",
              "Name: survived, dtype: int64"
            ]
          },
          "metadata": {},
          "execution_count": 14
        }
      ]
    },
    {
      "cell_type": "markdown",
      "source": [],
      "metadata": {
        "id": "mH-3TC7f6njM"
      }
    },
    {
      "cell_type": "code",
      "source": [
        "# Calculate the survival rate\n",
        "survival_rate = df['survived'].mean()\n",
        "\n",
        "# Round the survival rate to 2 decimal places\n",
        "survival_rate_rounded = round(survival_rate, )\n",
        "\n",
        "# Print the survival rate\n",
        "print(\"Survival Rate:\", survival_rate_rounded * 100, \"%\")\n"
      ],
      "metadata": {
        "colab": {
          "base_uri": "https://localhost:8080/"
        },
        "id": "36-Ccwghy5aA",
        "outputId": "35645c85-5626-4d54-c75b-8a85a9c62655"
      },
      "execution_count": 15,
      "outputs": [
        {
          "output_type": "stream",
          "name": "stdout",
          "text": [
            "Survival Rate: 0 %\n"
          ]
        }
      ]
    },
    {
      "cell_type": "markdown",
      "source": [
        "The overall survival rate of passengers on the Titanic was approximately 38.0%."
      ],
      "metadata": {
        "id": "LB3ZObpw6xMC"
      }
    },
    {
      "cell_type": "markdown",
      "source": [
        "Compare the survival rates between different passenger classes.\n",
        "\n",
        "Now, we will compare the survival rates between different passenger classes to see if there is a noticeable difference."
      ],
      "metadata": {
        "id": "Sm2ptxDzfh2i"
      }
    },
    {
      "cell_type": "code",
      "source": [
        "df['class'].head()"
      ],
      "metadata": {
        "colab": {
          "base_uri": "https://localhost:8080/"
        },
        "id": "_LnFxyYzfk33",
        "outputId": "cea1b45c-c2f2-4ba7-8134-a240a01cc2ad"
      },
      "execution_count": 16,
      "outputs": [
        {
          "output_type": "execute_result",
          "data": {
            "text/plain": [
              "0    Third\n",
              "1    First\n",
              "2    Third\n",
              "3    First\n",
              "4    Third\n",
              "Name: class, dtype: category\n",
              "Categories (3, object): ['First', 'Second', 'Third']"
            ]
          },
          "metadata": {},
          "execution_count": 16
        }
      ]
    },
    {
      "cell_type": "markdown",
      "source": [
        "The survival rates based on passenger class were as follows:\n",
        "\n",
        "First Class: 62.62% survival rate\n",
        "Second Class: 47.28% survival rate\n",
        "Third Class: 24.24% survival rate\n",
        "This data indicates a clear trend: passengers in higher classes had a significantly higher chance of survival compared to those in lower classes. This could be attributed to various factors, including the location of cabins on the ship, access to lifeboats, and socio-economic status.\n"
      ],
      "metadata": {
        "id": "g5xXbMzr68Nx"
      }
    },
    {
      "cell_type": "code",
      "source": [
        "# Group by passenger class and calculate survival rate\n",
        "survival_rates = df.groupby('class')['survived'].mean()\n",
        "\n",
        "# Sort the results\n",
        "survival_rates = survival_rates.sort_values(ascending=False)\n",
        "\n",
        "# Print the survival rates with percentage formatting\n",
        "for class_name, survival_rate in survival_rates.items():\n",
        "  print(f\"{class_name}: {survival_rate * 100:.2f}%\")"
      ],
      "metadata": {
        "colab": {
          "base_uri": "https://localhost:8080/"
        },
        "id": "57bLDKBY1xsd",
        "outputId": "f2e47f41-36e6-45ec-8e01-d6ac24a2b4da"
      },
      "execution_count": 17,
      "outputs": [
        {
          "output_type": "stream",
          "name": "stdout",
          "text": [
            "First: 62.62%\n",
            "Second: 47.28%\n",
            "Third: 24.24%\n"
          ]
        }
      ]
    },
    {
      "cell_type": "markdown",
      "source": [
        "Is there a significant difference in survival rates between male and female passengers?"
      ],
      "metadata": {
        "id": "0SOI1uceflD7"
      }
    },
    {
      "cell_type": "markdown",
      "source": [
        "To determine if there is a significant difference in survival rates between male and female passengers, we can perform a statistical test. One common test for this purpose is the Chi-Square Test of Independence, which is used to test if there is a significant association between two categorical variables.\n",
        "\n",
        "In this case, we would be testing the association between gender (male/female) and survival (survived/did not survive).\n",
        "\n",
        "Steps to Perform Chi-Square Test of Independence\n",
        "1. Create a Contingency Table:\n",
        "First, we need to create a contingency table that shows the frequency of each combination of gender and survival status.\n",
        "\n",
        "2. Perform the Chi-Square Test:\n",
        "Use a statistical function to perform the Chi-Square Test of Independence on\n",
        " the contingency table.\n",
        "3. Interpret the Results:\n",
        "The result of the test will include a p-value, which we can use to determine if the difference in survival rates is statistically significant."
      ],
      "metadata": {
        "id": "IZSvorzH67pD"
      }
    },
    {
      "cell_type": "markdown",
      "source": [
        "Import necessary libraries"
      ],
      "metadata": {
        "id": "sJKKaOpAJJKz"
      }
    },
    {
      "cell_type": "code",
      "source": [
        "from scipy.stats import chi2_contingency\n"
      ],
      "metadata": {
        "id": "3Rz6Q9wl7HFm"
      },
      "execution_count": 19,
      "outputs": []
    },
    {
      "cell_type": "code",
      "source": [
        "# Create a contingency table\n",
        "contingency_table = pd.crosstab(df['sex'], df['survived'])\n",
        "\n",
        "# Perform the Chi-Square Test of Independence\n",
        "chi2, p, _, _ = chi2_contingency(contingency_table)\n",
        "\n",
        "# Interpret the results\n",
        "alpha = 0.05  # significance level\n",
        "print(\"p-value:\", p)\n",
        "if p < alpha:\n",
        "    print(\"There is a significant difference in survival rates between male and female passengers.\")\n",
        "else:\n",
        "    print(\"There is no significant difference in survival rates between male and female passengers.\")"
      ],
      "metadata": {
        "colab": {
          "base_uri": "https://localhost:8080/"
        },
        "id": "ji2R-YKC8VG8",
        "outputId": "ba837720-45cd-4ac8-cbed-a172c6920428"
      },
      "execution_count": 20,
      "outputs": [
        {
          "output_type": "stream",
          "name": "stdout",
          "text": [
            "p-value: 3.7799096665576e-58\n",
            "There is a significant difference in survival rates between male and female passengers.\n"
          ]
        }
      ]
    },
    {
      "cell_type": "code",
      "source": [
        "#Calculate and Compare Survival Rates(optional)\n",
        "survival_rates = df.groupby('sex')['survived'].mean()\n",
        "print(survival_rates)\n"
      ],
      "metadata": {
        "colab": {
          "base_uri": "https://localhost:8080/"
        },
        "id": "BPkdLkDt9a-g",
        "outputId": "6c2189c2-70d9-4f71-950d-ba5dd108851b"
      },
      "execution_count": 21,
      "outputs": [
        {
          "output_type": "stream",
          "name": "stdout",
          "text": [
            "sex\n",
            "female    0.740385\n",
            "male      0.188908\n",
            "Name: survived, dtype: float64\n"
          ]
        }
      ]
    },
    {
      "cell_type": "markdown",
      "source": [
        "5. Data Manipulation"
      ],
      "metadata": {
        "id": "AVpcAw1xfryo"
      }
    },
    {
      "cell_type": "markdown",
      "source": [
        "Create a new column \"age_group\" categorizing passengers as \"Child\", \"Adult\", or \"Senior\" based on their age.\n",
        "\n",
        "We will categorize passengers into different age groups: \"Child\" (age ≤ 18), \"Adult\" (18 < age ≤ 60), or \"Senior\" (age > 60)."
      ],
      "metadata": {
        "id": "I08pGStAfvKP"
      }
    },
    {
      "cell_type": "code",
      "source": [
        "# Define age groups\n",
        "bins = [0, 17, 64, float('inf')] #float('inf') is used to represent infinity, ensuring that all ages 65 and above fall into the \"Senior\" category.\n",
        "labels = ['Child', 'Adult', 'Senior']\n",
        "\n",
        "# Create the \"age_group\" column\n",
        "#The right=False parameter means that the intervals are left-closed, i.e., the right bin edge is not included in the interval.\n",
        "df['age_group'] = pd.cut(df['age'], bins=bins, labels=labels, right=False)\n",
        "\n",
        "df.head()"
      ],
      "metadata": {
        "colab": {
          "base_uri": "https://localhost:8080/",
          "height": 206
        },
        "id": "ijMILdtsfyQj",
        "outputId": "12005098-690c-45ab-c12c-609146c8fed3"
      },
      "execution_count": 22,
      "outputs": [
        {
          "output_type": "execute_result",
          "data": {
            "text/plain": [
              "   survived  pclass     sex   age  sibsp  parch     fare embarked  class  \\\n",
              "0         0       3    male  22.0      1      0   7.2500        S  Third   \n",
              "1         1       1  female  38.0      1      0  71.2833        C  First   \n",
              "2         1       3  female  26.0      0      0   7.9250        S  Third   \n",
              "3         1       1  female  35.0      1      0  53.1000        S  First   \n",
              "4         0       3    male  35.0      0      0   8.0500        S  Third   \n",
              "\n",
              "     who  adult_male deck  embark_town alive  alone age_group  \n",
              "0    man        True  NaN  Southampton    no  False     Adult  \n",
              "1  woman       False    C    Cherbourg   yes  False     Adult  \n",
              "2  woman       False  NaN  Southampton   yes   True     Adult  \n",
              "3  woman       False    C  Southampton   yes  False     Adult  \n",
              "4    man        True  NaN  Southampton    no   True     Adult  "
            ],
            "text/html": [
              "\n",
              "  <div id=\"df-f55fe2c5-7346-4073-9d73-169543c21ab9\" class=\"colab-df-container\">\n",
              "    <div>\n",
              "<style scoped>\n",
              "    .dataframe tbody tr th:only-of-type {\n",
              "        vertical-align: middle;\n",
              "    }\n",
              "\n",
              "    .dataframe tbody tr th {\n",
              "        vertical-align: top;\n",
              "    }\n",
              "\n",
              "    .dataframe thead th {\n",
              "        text-align: right;\n",
              "    }\n",
              "</style>\n",
              "<table border=\"1\" class=\"dataframe\">\n",
              "  <thead>\n",
              "    <tr style=\"text-align: right;\">\n",
              "      <th></th>\n",
              "      <th>survived</th>\n",
              "      <th>pclass</th>\n",
              "      <th>sex</th>\n",
              "      <th>age</th>\n",
              "      <th>sibsp</th>\n",
              "      <th>parch</th>\n",
              "      <th>fare</th>\n",
              "      <th>embarked</th>\n",
              "      <th>class</th>\n",
              "      <th>who</th>\n",
              "      <th>adult_male</th>\n",
              "      <th>deck</th>\n",
              "      <th>embark_town</th>\n",
              "      <th>alive</th>\n",
              "      <th>alone</th>\n",
              "      <th>age_group</th>\n",
              "    </tr>\n",
              "  </thead>\n",
              "  <tbody>\n",
              "    <tr>\n",
              "      <th>0</th>\n",
              "      <td>0</td>\n",
              "      <td>3</td>\n",
              "      <td>male</td>\n",
              "      <td>22.0</td>\n",
              "      <td>1</td>\n",
              "      <td>0</td>\n",
              "      <td>7.2500</td>\n",
              "      <td>S</td>\n",
              "      <td>Third</td>\n",
              "      <td>man</td>\n",
              "      <td>True</td>\n",
              "      <td>NaN</td>\n",
              "      <td>Southampton</td>\n",
              "      <td>no</td>\n",
              "      <td>False</td>\n",
              "      <td>Adult</td>\n",
              "    </tr>\n",
              "    <tr>\n",
              "      <th>1</th>\n",
              "      <td>1</td>\n",
              "      <td>1</td>\n",
              "      <td>female</td>\n",
              "      <td>38.0</td>\n",
              "      <td>1</td>\n",
              "      <td>0</td>\n",
              "      <td>71.2833</td>\n",
              "      <td>C</td>\n",
              "      <td>First</td>\n",
              "      <td>woman</td>\n",
              "      <td>False</td>\n",
              "      <td>C</td>\n",
              "      <td>Cherbourg</td>\n",
              "      <td>yes</td>\n",
              "      <td>False</td>\n",
              "      <td>Adult</td>\n",
              "    </tr>\n",
              "    <tr>\n",
              "      <th>2</th>\n",
              "      <td>1</td>\n",
              "      <td>3</td>\n",
              "      <td>female</td>\n",
              "      <td>26.0</td>\n",
              "      <td>0</td>\n",
              "      <td>0</td>\n",
              "      <td>7.9250</td>\n",
              "      <td>S</td>\n",
              "      <td>Third</td>\n",
              "      <td>woman</td>\n",
              "      <td>False</td>\n",
              "      <td>NaN</td>\n",
              "      <td>Southampton</td>\n",
              "      <td>yes</td>\n",
              "      <td>True</td>\n",
              "      <td>Adult</td>\n",
              "    </tr>\n",
              "    <tr>\n",
              "      <th>3</th>\n",
              "      <td>1</td>\n",
              "      <td>1</td>\n",
              "      <td>female</td>\n",
              "      <td>35.0</td>\n",
              "      <td>1</td>\n",
              "      <td>0</td>\n",
              "      <td>53.1000</td>\n",
              "      <td>S</td>\n",
              "      <td>First</td>\n",
              "      <td>woman</td>\n",
              "      <td>False</td>\n",
              "      <td>C</td>\n",
              "      <td>Southampton</td>\n",
              "      <td>yes</td>\n",
              "      <td>False</td>\n",
              "      <td>Adult</td>\n",
              "    </tr>\n",
              "    <tr>\n",
              "      <th>4</th>\n",
              "      <td>0</td>\n",
              "      <td>3</td>\n",
              "      <td>male</td>\n",
              "      <td>35.0</td>\n",
              "      <td>0</td>\n",
              "      <td>0</td>\n",
              "      <td>8.0500</td>\n",
              "      <td>S</td>\n",
              "      <td>Third</td>\n",
              "      <td>man</td>\n",
              "      <td>True</td>\n",
              "      <td>NaN</td>\n",
              "      <td>Southampton</td>\n",
              "      <td>no</td>\n",
              "      <td>True</td>\n",
              "      <td>Adult</td>\n",
              "    </tr>\n",
              "  </tbody>\n",
              "</table>\n",
              "</div>\n",
              "    <div class=\"colab-df-buttons\">\n",
              "\n",
              "  <div class=\"colab-df-container\">\n",
              "    <button class=\"colab-df-convert\" onclick=\"convertToInteractive('df-f55fe2c5-7346-4073-9d73-169543c21ab9')\"\n",
              "            title=\"Convert this dataframe to an interactive table.\"\n",
              "            style=\"display:none;\">\n",
              "\n",
              "  <svg xmlns=\"http://www.w3.org/2000/svg\" height=\"24px\" viewBox=\"0 -960 960 960\">\n",
              "    <path d=\"M120-120v-720h720v720H120Zm60-500h600v-160H180v160Zm220 220h160v-160H400v160Zm0 220h160v-160H400v160ZM180-400h160v-160H180v160Zm440 0h160v-160H620v160ZM180-180h160v-160H180v160Zm440 0h160v-160H620v160Z\"/>\n",
              "  </svg>\n",
              "    </button>\n",
              "\n",
              "  <style>\n",
              "    .colab-df-container {\n",
              "      display:flex;\n",
              "      gap: 12px;\n",
              "    }\n",
              "\n",
              "    .colab-df-convert {\n",
              "      background-color: #E8F0FE;\n",
              "      border: none;\n",
              "      border-radius: 50%;\n",
              "      cursor: pointer;\n",
              "      display: none;\n",
              "      fill: #1967D2;\n",
              "      height: 32px;\n",
              "      padding: 0 0 0 0;\n",
              "      width: 32px;\n",
              "    }\n",
              "\n",
              "    .colab-df-convert:hover {\n",
              "      background-color: #E2EBFA;\n",
              "      box-shadow: 0px 1px 2px rgba(60, 64, 67, 0.3), 0px 1px 3px 1px rgba(60, 64, 67, 0.15);\n",
              "      fill: #174EA6;\n",
              "    }\n",
              "\n",
              "    .colab-df-buttons div {\n",
              "      margin-bottom: 4px;\n",
              "    }\n",
              "\n",
              "    [theme=dark] .colab-df-convert {\n",
              "      background-color: #3B4455;\n",
              "      fill: #D2E3FC;\n",
              "    }\n",
              "\n",
              "    [theme=dark] .colab-df-convert:hover {\n",
              "      background-color: #434B5C;\n",
              "      box-shadow: 0px 1px 3px 1px rgba(0, 0, 0, 0.15);\n",
              "      filter: drop-shadow(0px 1px 2px rgba(0, 0, 0, 0.3));\n",
              "      fill: #FFFFFF;\n",
              "    }\n",
              "  </style>\n",
              "\n",
              "    <script>\n",
              "      const buttonEl =\n",
              "        document.querySelector('#df-f55fe2c5-7346-4073-9d73-169543c21ab9 button.colab-df-convert');\n",
              "      buttonEl.style.display =\n",
              "        google.colab.kernel.accessAllowed ? 'block' : 'none';\n",
              "\n",
              "      async function convertToInteractive(key) {\n",
              "        const element = document.querySelector('#df-f55fe2c5-7346-4073-9d73-169543c21ab9');\n",
              "        const dataTable =\n",
              "          await google.colab.kernel.invokeFunction('convertToInteractive',\n",
              "                                                    [key], {});\n",
              "        if (!dataTable) return;\n",
              "\n",
              "        const docLinkHtml = 'Like what you see? Visit the ' +\n",
              "          '<a target=\"_blank\" href=https://colab.research.google.com/notebooks/data_table.ipynb>data table notebook</a>'\n",
              "          + ' to learn more about interactive tables.';\n",
              "        element.innerHTML = '';\n",
              "        dataTable['output_type'] = 'display_data';\n",
              "        await google.colab.output.renderOutput(dataTable, element);\n",
              "        const docLink = document.createElement('div');\n",
              "        docLink.innerHTML = docLinkHtml;\n",
              "        element.appendChild(docLink);\n",
              "      }\n",
              "    </script>\n",
              "  </div>\n",
              "\n",
              "\n",
              "<div id=\"df-9f5355cc-017e-47f2-b733-4501efe58704\">\n",
              "  <button class=\"colab-df-quickchart\" onclick=\"quickchart('df-9f5355cc-017e-47f2-b733-4501efe58704')\"\n",
              "            title=\"Suggest charts.\"\n",
              "            style=\"display:none;\">\n",
              "\n",
              "<svg xmlns=\"http://www.w3.org/2000/svg\" height=\"24px\"viewBox=\"0 0 24 24\"\n",
              "     width=\"24px\">\n",
              "    <g>\n",
              "        <path d=\"M19 3H5c-1.1 0-2 .9-2 2v14c0 1.1.9 2 2 2h14c1.1 0 2-.9 2-2V5c0-1.1-.9-2-2-2zM9 17H7v-7h2v7zm4 0h-2V7h2v10zm4 0h-2v-4h2v4z\"/>\n",
              "    </g>\n",
              "</svg>\n",
              "  </button>\n",
              "\n",
              "<style>\n",
              "  .colab-df-quickchart {\n",
              "      --bg-color: #E8F0FE;\n",
              "      --fill-color: #1967D2;\n",
              "      --hover-bg-color: #E2EBFA;\n",
              "      --hover-fill-color: #174EA6;\n",
              "      --disabled-fill-color: #AAA;\n",
              "      --disabled-bg-color: #DDD;\n",
              "  }\n",
              "\n",
              "  [theme=dark] .colab-df-quickchart {\n",
              "      --bg-color: #3B4455;\n",
              "      --fill-color: #D2E3FC;\n",
              "      --hover-bg-color: #434B5C;\n",
              "      --hover-fill-color: #FFFFFF;\n",
              "      --disabled-bg-color: #3B4455;\n",
              "      --disabled-fill-color: #666;\n",
              "  }\n",
              "\n",
              "  .colab-df-quickchart {\n",
              "    background-color: var(--bg-color);\n",
              "    border: none;\n",
              "    border-radius: 50%;\n",
              "    cursor: pointer;\n",
              "    display: none;\n",
              "    fill: var(--fill-color);\n",
              "    height: 32px;\n",
              "    padding: 0;\n",
              "    width: 32px;\n",
              "  }\n",
              "\n",
              "  .colab-df-quickchart:hover {\n",
              "    background-color: var(--hover-bg-color);\n",
              "    box-shadow: 0 1px 2px rgba(60, 64, 67, 0.3), 0 1px 3px 1px rgba(60, 64, 67, 0.15);\n",
              "    fill: var(--button-hover-fill-color);\n",
              "  }\n",
              "\n",
              "  .colab-df-quickchart-complete:disabled,\n",
              "  .colab-df-quickchart-complete:disabled:hover {\n",
              "    background-color: var(--disabled-bg-color);\n",
              "    fill: var(--disabled-fill-color);\n",
              "    box-shadow: none;\n",
              "  }\n",
              "\n",
              "  .colab-df-spinner {\n",
              "    border: 2px solid var(--fill-color);\n",
              "    border-color: transparent;\n",
              "    border-bottom-color: var(--fill-color);\n",
              "    animation:\n",
              "      spin 1s steps(1) infinite;\n",
              "  }\n",
              "\n",
              "  @keyframes spin {\n",
              "    0% {\n",
              "      border-color: transparent;\n",
              "      border-bottom-color: var(--fill-color);\n",
              "      border-left-color: var(--fill-color);\n",
              "    }\n",
              "    20% {\n",
              "      border-color: transparent;\n",
              "      border-left-color: var(--fill-color);\n",
              "      border-top-color: var(--fill-color);\n",
              "    }\n",
              "    30% {\n",
              "      border-color: transparent;\n",
              "      border-left-color: var(--fill-color);\n",
              "      border-top-color: var(--fill-color);\n",
              "      border-right-color: var(--fill-color);\n",
              "    }\n",
              "    40% {\n",
              "      border-color: transparent;\n",
              "      border-right-color: var(--fill-color);\n",
              "      border-top-color: var(--fill-color);\n",
              "    }\n",
              "    60% {\n",
              "      border-color: transparent;\n",
              "      border-right-color: var(--fill-color);\n",
              "    }\n",
              "    80% {\n",
              "      border-color: transparent;\n",
              "      border-right-color: var(--fill-color);\n",
              "      border-bottom-color: var(--fill-color);\n",
              "    }\n",
              "    90% {\n",
              "      border-color: transparent;\n",
              "      border-bottom-color: var(--fill-color);\n",
              "    }\n",
              "  }\n",
              "</style>\n",
              "\n",
              "  <script>\n",
              "    async function quickchart(key) {\n",
              "      const quickchartButtonEl =\n",
              "        document.querySelector('#' + key + ' button');\n",
              "      quickchartButtonEl.disabled = true;  // To prevent multiple clicks.\n",
              "      quickchartButtonEl.classList.add('colab-df-spinner');\n",
              "      try {\n",
              "        const charts = await google.colab.kernel.invokeFunction(\n",
              "            'suggestCharts', [key], {});\n",
              "      } catch (error) {\n",
              "        console.error('Error during call to suggestCharts:', error);\n",
              "      }\n",
              "      quickchartButtonEl.classList.remove('colab-df-spinner');\n",
              "      quickchartButtonEl.classList.add('colab-df-quickchart-complete');\n",
              "    }\n",
              "    (() => {\n",
              "      let quickchartButtonEl =\n",
              "        document.querySelector('#df-9f5355cc-017e-47f2-b733-4501efe58704 button');\n",
              "      quickchartButtonEl.style.display =\n",
              "        google.colab.kernel.accessAllowed ? 'block' : 'none';\n",
              "    })();\n",
              "  </script>\n",
              "</div>\n",
              "    </div>\n",
              "  </div>\n"
            ]
          },
          "metadata": {},
          "execution_count": 22
        }
      ]
    },
    {
      "cell_type": "markdown",
      "source": [
        "The new column \"age_group\" has been successfully added to the dataset, categorizing passengers into \"Child\", \"Adult\", or \"Senior\" based on their age.\n",
        "\n",
        "Next, we will proceed to calculate the average fare paid by each passenger class."
      ],
      "metadata": {
        "id": "D82iaUEE7-tU"
      }
    },
    {
      "cell_type": "markdown",
      "source": [
        "Calculate the average fare paid by each passenger class."
      ],
      "metadata": {
        "id": "r4hJg9Qsfy1Y"
      }
    },
    {
      "cell_type": "code",
      "source": [
        "# Group by passenger class and calculate average fare paid\n",
        "average_fare = df.groupby('class')['fare'].mean()\n",
        "\n",
        "# Round the survival rate to 2 decimal places\n",
        "average_fare_rounded = round(average_fare, 2)\n",
        "\n",
        "average_fare_rounded"
      ],
      "metadata": {
        "colab": {
          "base_uri": "https://localhost:8080/"
        },
        "id": "ZNmtQPcsf3Na",
        "outputId": "e627e541-2801-4e0c-9e06-7de327f677e8"
      },
      "execution_count": 65,
      "outputs": [
        {
          "output_type": "execute_result",
          "data": {
            "text/plain": [
              "class\n",
              "First     84.19\n",
              "Second    20.66\n",
              "Third     13.68\n",
              "Name: fare, dtype: float64"
            ]
          },
          "metadata": {},
          "execution_count": 65
        }
      ]
    },
    {
      "cell_type": "markdown",
      "source": [
        "The average fare paid by passengers in each class was as follows:\n",
        "\n",
        "First Class: $84.19\n",
        "\n",
        "Second Class: $20.66\n",
        "\n",
        "Third Class: $13.68\n",
        "\n",
        "These values reflect the expected trend that higher classes paid higher fares.\n",
        "\n",
        "\n",
        "Now, let's proceed to find the top 5 most common embarkation points.\n"
      ],
      "metadata": {
        "id": "UNI8vGCm8NbN"
      }
    },
    {
      "cell_type": "markdown",
      "source": [],
      "metadata": {
        "id": "jk7a2Bmlf3eB"
      }
    },
    {
      "cell_type": "markdown",
      "source": [
        "\n",
        "Find the top 5 most common embarked points.\n",
        "---\n",
        "\n"
      ],
      "metadata": {
        "id": "WpGX0ZnCc8aI"
      }
    },
    {
      "cell_type": "code",
      "source": [
        "# Count the frequency of each embarked point and select the top 5\n",
        "top_embarked_points = df['embarked'].value_counts().head(5)\n",
        "top_embarked_points"
      ],
      "metadata": {
        "colab": {
          "base_uri": "https://localhost:8080/"
        },
        "id": "6yw2MoGtgI2r",
        "outputId": "58f42bcd-da63-47b3-8dca-022d9d2c30f4"
      },
      "execution_count": 23,
      "outputs": [
        {
          "output_type": "execute_result",
          "data": {
            "text/plain": [
              "S    644\n",
              "C    168\n",
              "Q     77\n",
              "Name: embarked, dtype: int64"
            ]
          },
          "metadata": {},
          "execution_count": 23
        }
      ]
    },
    {
      "cell_type": "markdown",
      "source": [
        "The top embarkation points for passengers on the Titanic were:\n",
        "\n",
        "Southampton: 644 passengers\n",
        "Cherbourg: 168 passengers\n",
        "Queenstown: 77 passengers\n",
        "Southampton was the most common embarkation point by a significant margin.\n",
        "\n",
        "With this, we've completed the data manipulation section. Now, let's move on to advanced visualization.\n"
      ],
      "metadata": {
        "id": "fU1c3r628q9X"
      }
    },
    {
      "cell_type": "markdown",
      "source": [
        "6. Advanced Visualization"
      ],
      "metadata": {
        "id": "hh1ecKsJgJCd"
      }
    },
    {
      "cell_type": "markdown",
      "source": [],
      "metadata": {
        "id": "HAKC0veZLoiF"
      }
    },
    {
      "cell_type": "markdown",
      "source": [
        "Create a heatmap to visualize the correlation between numerical features."
      ],
      "metadata": {
        "id": "wvLzfmkJgNE8"
      }
    },
    {
      "cell_type": "code",
      "source": [
        "# Calculate the correlation matrix\n",
        "corr_matrix = df.corr()\n",
        "\n",
        "# Create the heatmap\n",
        "#The annot=True argument adds annotations to each cell in the heatmap, showing the correlation coefficient.\n",
        "#The fmt=\".2f\" argument formats these coefficients to two decimal places. The cmap='coolwarm' argument sets the color map.\n",
        "sns.heatmap(corr_matrix, annot=True, fmt=\".2f\", cmap='coolwarm')\n",
        "\n",
        "# Customize the heatmap\n",
        "#Add a title to the heatmap.\n",
        "plt.title('Correlation Matrix of Numerical Features')\n",
        "\n",
        "plt.show()\n"
      ],
      "metadata": {
        "colab": {
          "base_uri": "https://localhost:8080/",
          "height": 570
        },
        "id": "nLdwgTf5gP-7",
        "outputId": "24100a28-71bc-4f34-d831-81761dc3c6ec"
      },
      "execution_count": 24,
      "outputs": [
        {
          "output_type": "stream",
          "name": "stderr",
          "text": [
            "<ipython-input-24-e7933632980d>:2: FutureWarning: The default value of numeric_only in DataFrame.corr is deprecated. In a future version, it will default to False. Select only valid columns or specify the value of numeric_only to silence this warning.\n",
            "  corr_matrix = df.corr()\n"
          ]
        },
        {
          "output_type": "display_data",
          "data": {
            "text/plain": [
              "<Figure size 640x480 with 2 Axes>"
            ],
            "image/png": "[encoded data removed]"
          },
          "metadata": {}
        }
      ]
    },
    {
      "cell_type": "markdown",
      "source": [
        "The heatmap above displays the correlation between numerical features in the Titanic dataset. Here are some key observations:\n",
        "\n",
        "fare and pclass: There is a strong negative correlation (−0.55) between fare and passenger class, indicating that higher classes (which are numerically lower) tend to pay higher fares.\n",
        "parch and sibsp: There is a moderate positive correlation (0.41) between the number of parents/children aboard (parch) and the number of siblings/spouses aboard (sibsp), suggesting that families tended to travel together.\n",
        "survived and pclass: There is a negative correlation (−0.34) between survival and passenger class, indicating that passengers in higher classes had a better chance of survival.\n",
        "Other correlations are relatively weak.\n",
        "\n",
        "Next, let's proceed with the visualization of the distribution of passenger ages for each class using a violin plot.\n"
      ],
      "metadata": {
        "id": "V8O-6cSq89Vp"
      }
    },
    {
      "cell_type": "markdown",
      "source": [
        "Visualize the distribution of passenger ages for each class using a violin plot."
      ],
      "metadata": {
        "id": "VW0zQIDtgQHE"
      }
    },
    {
      "cell_type": "code",
      "source": [
        "# Create the violin plot\n",
        "sns.violinplot(x='class', y='age', data=df)\n",
        "\n",
        "# Customize the plot\n",
        "plt.title('Distribution of Passenger Ages for Each Class')\n",
        "plt.xlabel('Class')\n",
        "plt.ylabel('Age')\n",
        "\n",
        "# Show the plot\n",
        "plt.show()"
      ],
      "metadata": {
        "colab": {
          "base_uri": "https://localhost:8080/",
          "height": 472
        },
        "id": "r5S-WAMugSsi",
        "outputId": "b67c2912-d1eb-4150-e8b5-797054b9eb4d"
      },
      "execution_count": 25,
      "outputs": [
        {
          "output_type": "display_data",
          "data": {
            "text/plain": [
              "<Figure size 640x480 with 1 Axes>"
            ],
            "image/png": "[encoded data removed]"
          },
          "metadata": {}
        }
      ]
    },
    {
      "cell_type": "markdown",
      "source": [
        "The violin plot above illustrates the distribution of ages across different passenger classes on the Titanic:\n",
        "\n",
        "First Class: The age distribution is wider, with a higher concentration of middle-aged and older passengers. There are fewer young adults and children.\n",
        "\n",
        "Second Class: The distribution is more uniform, but still with a noticeable presence of middle-aged passengers. There are also children present.\n",
        "\n",
        "Third Class: Has the youngest set of passengers, with a significant number of young adults and children.\n",
        "The plot combines aspects of a box plot with a kernel density estimate, providing a fuller picture of the age distribution.\n",
        "\n",
        "Finally, let's create a pair plot for the dataset.\n"
      ],
      "metadata": {
        "id": "UJYQ3Fvp9Tia"
      }
    },
    {
      "cell_type": "markdown",
      "source": [
        "Create a pair plot for the dataset.\n",
        "\n",
        "Due to the size of the dataset and the number of features, a pair plot including all features could be computationally expensive and hard to interpret. Thus, we might choose to create a pair plot for a subset of the features. For this example, let's create a pair plot for the \"age\", \"fare\", and \"pclass\" columns, along with the \"survived\" column to see if there are any noticeable patterns."
      ],
      "metadata": {
        "id": "2m8PYeDBgS2t"
      }
    },
    {
      "cell_type": "code",
      "source": [
        "# Select a subset of the data to make the pair plot more manageable\n",
        "selected_columns = ['age', 'fare', 'pclass', 'survived']\n",
        "subset_df = df[selected_columns]\n",
        "\n",
        "# Create the pair plot\n",
        "sns.pairplot(subset_df, hue='survived')\n",
        "\n",
        "# Show the plot\n",
        "plt.show()"
      ],
      "metadata": {
        "colab": {
          "base_uri": "https://localhost:8080/",
          "height": 758
        },
        "id": "nRj96fCKgYeY",
        "outputId": "1510f33f-c123-4b3f-9020-ee18120a362f"
      },
      "execution_count": 26,
      "outputs": [
        {
          "output_type": "display_data",
          "data": {
            "text/plain": [
              "<Figure size 820.486x750 with 12 Axes>"
            ],
            "image/png": "[encoded data removed]"
          },
          "metadata": {}
        }
      ]
    },
    {
      "cell_type": "markdown",
      "source": [
        "The pair plot above provides a visual comparison of \"age\", \"fare\", \"pclass\", and \"survived\" features, with data points colored based on survival status:\n",
        "\n",
        "Age vs. Fare: There isn't a clear pattern differentiating survivors from non-survivors. However, there are some higher fare outliers, mainly among survivors.\n",
        "\n",
        "Age vs. Pclass: Passengers in First Class tend to be older. Survivors are spread across all ages and classes.\n",
        "\n",
        "Fare vs. Pclass: As expected, fare decreases with increasing passenger class. Survivors in higher classes (lower \"pclass\" value) tend to have paid higher fares.\n",
        "\n",
        "Distributions: The diagonal plots show the distribution of each feature, separated by survival status.\n"
      ],
      "metadata": {
        "id": "59mbLDl2Eh0w"
      }
    },
    {
      "cell_type": "markdown",
      "source": [
        "7. Machine Learning (Optional)"
      ],
      "metadata": {
        "id": "rvgxZfCtgYqf"
      }
    },
    {
      "cell_type": "markdown",
      "source": [
        "Use a simple machine learning model (e.g., logistic regression) to predict passenger survival.\n",
        "\n",
        "We will use a simple machine learning model to predict passenger survival on the Titanic. Here’s the plan:\n",
        "\n",
        "Use a Simple Machine Learning Model\n",
        "We will use a Logistic Regression model, a commonly used algorithm for binary classification problems like this one (survived or not survived).\n",
        "\n",
        "Evaluate the Performance of the Model\n",
        "We will split the dataset into training and test sets, train the model on the training set, make predictions on the test set, and evaluate the performance using accuracy and other relevant metrics.\n",
        "\n",
        "Let’s start by preparing the data for the machine learning model.\n"
      ],
      "metadata": {
        "id": "kkWOUrW1gZpT"
      }
    },
    {
      "cell_type": "markdown",
      "source": [
        "Data Preparation\n",
        "\n",
        "Handle Categorical Variables: Convert categorical variables to a format that can be understood by the machine learning model.\n",
        "\n",
        "Split the Data: Divide the dataset into features (X) and target variable (y), and then split these into training and test sets.\n",
        "\n",
        "\n",
        "Let's begin with handling categorical variables and splitting the data.\n"
      ],
      "metadata": {
        "id": "ImZYwwAJFFVA"
      }
    },
    {
      "cell_type": "code",
      "source": [
        "from sklearn.model_selection import train_test_split\n",
        "from sklearn.linear_model import LogisticRegression\n",
        "from sklearn.metrics import classification_report, accuracy_score\n",
        "\n",
        "# Dropping columns with too many missing values and non-numerical columns\n",
        "ml_df = df.drop(['deck', 'embark_town', 'alive', 'who', 'adult_male', 'alone', 'age_group', 'class'], axis=1)\n",
        "\n",
        "# Convert categorical variables to dummy variables\n",
        "ml_df = pd.get_dummies(ml_df, drop_first=True)\n",
        "\n",
        "# Split the data into features (X) and target variable (y)\n",
        "X = ml_df.drop('survived', axis=1)\n",
        "y = ml_df['survived']\n",
        "\n",
        "# Split the data into training and test sets\n",
        "X_train, X_test, y_train, y_test = train_test_split(X, y, test_size=0.3, random_state=101)\n",
        "\n",
        "# Instantiate the Logistic Regression model\n",
        "logmodel = LogisticRegression(max_iter=200)\n",
        "\n",
        "# Train the model\n",
        "logmodel.fit(X_train, y_train)\n",
        "\n",
        "# Make predictions\n",
        "predictions = logmodel.predict(X_test)\n",
        "\n",
        "\n"
      ],
      "metadata": {
        "id": "yywnNqCygeVz"
      },
      "execution_count": 27,
      "outputs": []
    },
    {
      "cell_type": "markdown",
      "source": [
        "The Logistic Regression model has been trained, and the performance on the test set has been evaluated.\n"
      ],
      "metadata": {
        "id": "XevZEQy2FPNO"
      }
    },
    {
      "cell_type": "markdown",
      "source": [
        "7.2. Evaluate the performance of your model."
      ],
      "metadata": {
        "id": "_YBQNZ9BgeiT"
      }
    },
    {
      "cell_type": "markdown",
      "source": [],
      "metadata": {
        "id": "RunIf7RqFP5s"
      }
    },
    {
      "cell_type": "code",
      "source": [
        "# Evaluate the performance\n",
        "accuracy = accuracy_score(y_test, predictions)\n",
        "classification_rep = classification_report(y_test, predictions)\n",
        "\n",
        "accuracy, classification_rep"
      ],
      "metadata": {
        "colab": {
          "base_uri": "https://localhost:8080/"
        },
        "id": "KmcIg7oqgfWk",
        "outputId": "9fa4393d-9c49-4ca1-8d74-3c32ef360e4d"
      },
      "execution_count": 28,
      "outputs": [
        {
          "output_type": "execute_result",
          "data": {
            "text/plain": [
              "(0.8239700374531835,\n",
              " '              precision    recall  f1-score   support\\n\\n           0       0.82      0.91      0.86       163\\n           1       0.84      0.68      0.75       104\\n\\n    accuracy                           0.82       267\\n   macro avg       0.83      0.80      0.81       267\\nweighted avg       0.83      0.82      0.82       267\\n')"
            ]
          },
          "metadata": {},
          "execution_count": 28
        }
      ]
    },
    {
      "cell_type": "markdown",
      "source": [
        "Accuracy: 82.40%\n",
        "Precision: The precision for predicting survival (1) is 84%, and for not surviving (0) is 82%.\n",
        "\n",
        "Recall: The recall for predicting survival is 68%, and for not surviving is 91%.\n",
        "F1-Score: The F1-score for predicting survival is 75%, and for not surviving is 86%.\n",
        "\n",
        "The model has a higher recall for predicting non-survival, which means it is more conservative in predicting survival. This might be desirable in certain scenarios, but it also means that the model is more likely to predict non-survival for passengers who actually survived.\n"
      ],
      "metadata": {
        "id": "mndYL4nmFbCe"
      }
    },
    {
      "cell_type": "markdown",
      "source": [
        "Let's calculate the predicted survival rate based on the model's predictions on the test set."
      ],
      "metadata": {
        "id": "siVQxaDAF5l1"
      }
    },
    {
      "cell_type": "code",
      "source": [
        "# Calculate the predicted survival rate based on the model's predictions on the test set\n",
        "predicted_survival_rate = predictions.mean()\n",
        "predicted_survival_rate"
      ],
      "metadata": {
        "colab": {
          "base_uri": "https://localhost:8080/"
        },
        "id": "u1GtJ6pOGDab",
        "outputId": "63fe1a22-84b9-41ab-8333-315f9febf1a4"
      },
      "execution_count": 29,
      "outputs": [
        {
          "output_type": "execute_result",
          "data": {
            "text/plain": [
              "0.31835205992509363"
            ]
          },
          "metadata": {},
          "execution_count": 29
        }
      ]
    },
    {
      "cell_type": "markdown",
      "source": [
        "The predicted survival rate based on the Logistic Regression model's predictions on the test set is approximately 31.84%.\n",
        "\n",
        "This value represents the proportion of passengers that the model predicts would survive. It's worth noting that this is a prediction based on the features of the dataset and the patterns the model has learned during training.\n",
        "\n",
        "Thats's the end of this analysis.\n",
        "\n",
        "Thank you!"
      ],
      "metadata": {
        "id": "T5PF_pyvH40q"
      }
    },
    {
      "cell_type": "markdown",
      "source": [],
      "metadata": {
        "id": "K80GhY9lgfl0"
      }
    },
    {
      "cell_type": "markdown",
      "source": [],
      "metadata": {
        "id": "6_cE7BnScw8d"
      }
    }
  ]
}